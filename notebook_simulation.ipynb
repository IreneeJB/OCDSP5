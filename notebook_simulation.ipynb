{
 "cells": [
  {
   "cell_type": "code",
   "execution_count": 1,
   "id": "9a78bd04-70e8-4be2-82ca-8a9a28068679",
   "metadata": {},
   "outputs": [],
   "source": [
    "import time\n",
    "import pandas as pd\n",
    "import numpy as np\n",
    "import matplotlib.pyplot as plt\n",
    "import datetime as dt\n",
    "import seaborn as sns\n",
    "import warnings\n",
    "from OutilsP5 import *\n",
    "\n",
    "#SciKit-Learn\n",
    "from sklearn.preprocessing import StandardScaler\n",
    "from sklearn.cluster import KMeans\n",
    "\n",
    "\n",
    "from sklearn.metrics import silhouette_score\n",
    "from sklearn.metrics import adjusted_rand_score\n"
   ]
  },
  {
   "cell_type": "code",
   "execution_count": 2,
   "id": "a055c0e3-15ab-4bd6-8c48-11e2e75aa6d2",
   "metadata": {},
   "outputs": [],
   "source": [
    "# On ingnorera les warning concernant les prochaines versions\n",
    "def warn(*args, **kwargs):\n",
    "    pass\n",
    "warnings.warn = warn"
   ]
  },
  {
   "cell_type": "markdown",
   "id": "e3c689a6-67d6-4fe3-acc6-ce6f3add0a98",
   "metadata": {
    "tags": []
   },
   "source": [
    "## <font color='green'> Import des données </font> "
   ]
  },
  {
   "cell_type": "markdown",
   "id": "509be2fa-ae6f-4458-aa1c-b058633522c0",
   "metadata": {},
   "source": [
    "Lancer le notebook d'exploration afin d'obtenir le fichier modelData.csv & orders_view.csv."
   ]
  },
  {
   "cell_type": "code",
   "execution_count": 3,
   "id": "8b8715eb-be9d-41a0-938c-c076445bcb73",
   "metadata": {},
   "outputs": [
    {
     "data": {
      "text/html": [
       "<div>\n",
       "<style scoped>\n",
       "    .dataframe tbody tr th:only-of-type {\n",
       "        vertical-align: middle;\n",
       "    }\n",
       "\n",
       "    .dataframe tbody tr th {\n",
       "        vertical-align: top;\n",
       "    }\n",
       "\n",
       "    .dataframe thead th {\n",
       "        text-align: right;\n",
       "    }\n",
       "</style>\n",
       "<table border=\"1\" class=\"dataframe\">\n",
       "  <thead>\n",
       "    <tr style=\"text-align: right;\">\n",
       "      <th></th>\n",
       "      <th>recency</th>\n",
       "      <th>frequency</th>\n",
       "      <th>monetary</th>\n",
       "      <th>satisfaction</th>\n",
       "    </tr>\n",
       "    <tr>\n",
       "      <th>customer_unique_id</th>\n",
       "      <th></th>\n",
       "      <th></th>\n",
       "      <th></th>\n",
       "      <th></th>\n",
       "    </tr>\n",
       "  </thead>\n",
       "  <tbody>\n",
       "    <tr>\n",
       "      <th>0000366f3b9a7992bf8c76cfdf3221e2</th>\n",
       "      <td>115</td>\n",
       "      <td>1</td>\n",
       "      <td>130</td>\n",
       "      <td>5.0</td>\n",
       "    </tr>\n",
       "    <tr>\n",
       "      <th>0000b849f77a49e4a4ce2b2a4ca5be3f</th>\n",
       "      <td>118</td>\n",
       "      <td>1</td>\n",
       "      <td>19</td>\n",
       "      <td>4.0</td>\n",
       "    </tr>\n",
       "    <tr>\n",
       "      <th>0000f46a3911fa3c0805444483337064</th>\n",
       "      <td>541</td>\n",
       "      <td>1</td>\n",
       "      <td>69</td>\n",
       "      <td>3.0</td>\n",
       "    </tr>\n",
       "  </tbody>\n",
       "</table>\n",
       "</div>"
      ],
      "text/plain": [
       "                                  recency  frequency  monetary  satisfaction\n",
       "customer_unique_id                                                          \n",
       "0000366f3b9a7992bf8c76cfdf3221e2      115          1       130           5.0\n",
       "0000b849f77a49e4a4ce2b2a4ca5be3f      118          1        19           4.0\n",
       "0000f46a3911fa3c0805444483337064      541          1        69           3.0"
      ]
     },
     "execution_count": 3,
     "metadata": {},
     "output_type": "execute_result"
    }
   ],
   "source": [
    "orders_view = pd.read_csv('orders_view.csv')\n",
    "data = pd.read_csv(\"modelData.csv\")\n",
    "data.set_index(\"customer_unique_id\", inplace = True)\n",
    "data.head(3)"
   ]
  },
  {
   "cell_type": "code",
   "execution_count": 4,
   "id": "11ff0fa6-1b88-476e-acae-dfb5042f3508",
   "metadata": {},
   "outputs": [],
   "source": [
    "normalizer = StandardScaler()\n",
    "model_data = pd.DataFrame(normalizer.fit_transform(data), index = data.index, columns = data.columns)"
   ]
  },
  {
   "cell_type": "markdown",
   "id": "bd77c5d1-dde6-49f8-babf-4866996bb463",
   "metadata": {},
   "source": [
    "# <font color='red'> Application du contrat de maintenance au K-means </font>"
   ]
  },
  {
   "cell_type": "code",
   "execution_count": null,
   "id": "bbc9311d-3b21-4037-88cc-729422a895c8",
   "metadata": {},
   "outputs": [
    {
     "name": "stdout",
     "output_type": "stream",
     "text": [
      "70\n",
      "140\n"
     ]
    }
   ],
   "source": [
    "all_X = []\n",
    "all_Y = []\n",
    "\n",
    "for j in  [70,140,210,280,350] :\n",
    "    print(j)\n",
    "    X = []\n",
    "    Y = []\n",
    "    orders_view['purchase_date'] = pd.to_datetime(orders_view['purchase_date'], format = \"%Y-%m-%d %H:%M:%S\")\n",
    "    today = orders_view[\"purchase_date\"].max()\n",
    "    maj_date = today-dt.timedelta(days = j)\n",
    "    old_data, customers_list = timeCut(orders_view, end_date = maj_date)\n",
    "\n",
    "    # Prédiction des nouveaux clients sur la base des données précédentes\n",
    "    oldModelKMeans = KMeans(n_clusters = 5)\n",
    "    old_model_data = pd.DataFrame(normalizer.fit_transform(old_data), index = old_data.index, columns = old_data.columns)\n",
    "    oldModelKMeans.fit(old_model_data)\n",
    "\n",
    "\n",
    "    for i in range(70) :\n",
    "        new_data, customers_list = timeCut(orders_view, end_date = maj_date + dt.timedelta(days = i))\n",
    "        new_model_data = normalizer.fit_transform(new_data)\n",
    "        kmeans_prediction = oldModelKMeans.predict(new_model_data)\n",
    "    \n",
    "        # Prédiction des nouveaux clients sur la base de données mise-à-jour\n",
    "        new_model_data = pd.DataFrame(normalizer.fit_transform(new_data), index = new_data.index, columns = new_data.columns)\n",
    "        newModelKMeans = KMeans(n_clusters = 5)\n",
    "        newModelKMeans.fit(new_model_data)\n",
    "    \n",
    "        df = new_model_data.copy()\n",
    "        df['label'] = newModelKMeans.labels_\n",
    "        df['predicted_label'] = kmeans_prediction\n",
    "        X.append(i)\n",
    "        Y.append(adjusted_rand_score(df['label'], df['predicted_label']))\n",
    "    \n",
    "    all_X.append(X)\n",
    "    all_Y.append(Y)\n",
    "X_df = pd.DataFrame(all_X)\n",
    "Y_df = pd.DataFrame(all_Y)\n",
    "plt.plot(X_df.mean(axis = 0),Y_df.mean(axis = 0))\n",
    "plt.title(\"Conservation de la performance dans le temps\")\n",
    "plt.xlabel(\"Jours écoulés après une mise-à-jour\")\n",
    "plt.ylabel(\"Performance conservée\")"
   ]
  },
  {
   "cell_type": "code",
   "execution_count": null,
   "id": "68802699-9115-4436-9bcf-c75485a44cc2",
   "metadata": {},
   "outputs": [],
   "source": [
    "plt.figure(figsize = (13,7))\n",
    "plt.plot(X_df.mean(axis = 0),Y_df.mean(axis = 0))\n",
    "plt.title(\"Conservation de la performance dans le temps\")\n",
    "plt.xlabel(\"Jours écoulés après une mise-à-jour\")\n",
    "plt.ylabel(\"Performance conservée\")"
   ]
  }
 ],
 "metadata": {
  "kernelspec": {
   "display_name": "Python 3 (ipykernel)",
   "language": "python",
   "name": "python3"
  },
  "language_info": {
   "codemirror_mode": {
    "name": "ipython",
    "version": 3
   },
   "file_extension": ".py",
   "mimetype": "text/x-python",
   "name": "python",
   "nbconvert_exporter": "python",
   "pygments_lexer": "ipython3",
   "version": "3.10.0"
  }
 },
 "nbformat": 4,
 "nbformat_minor": 5
}
